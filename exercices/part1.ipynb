{
 "cells": [
  {
   "cell_type": "markdown",
   "id": "5ad7e22a",
   "metadata": {},
   "source": [
    "### Exercice 1:"
   ]
  },
  {
   "cell_type": "markdown",
   "id": "b0be8057",
   "metadata": {},
   "source": [
    "1. Write a function that takes a string and prints the length of the string.\n",
    "2. Write a function that takes a string and returns a string made of the first and last characters\n",
    "    of the original string.\n"
   ]
  },
  {
   "cell_type": "markdown",
   "id": "67df8c72",
   "metadata": {},
   "source": [
    "### Exercice 2:"
   ]
  },
  {
   "cell_type": "markdown",
   "id": "2a04a2e1",
   "metadata": {},
   "source": [
    "1. Write a function that takes two arguments, and returns the sum of the two.\n",
    "2. Call the function with the values 1 and 2.1, then check the type of the result.\n",
    "3. Call the function with the values False and 2, then check the type of the result."
   ]
  },
  {
   "cell_type": "markdown",
   "id": "3a38d47d",
   "metadata": {},
   "source": [
    "### Exercice 3:"
   ]
  },
  {
   "cell_type": "markdown",
   "id": "40a212f8",
   "metadata": {},
   "source": [
    "Write a function that takes a string and returns a dictionary containing character frequency.\n",
    "\n",
    "### example\n",
    "\n",
    "    string sample: 'test'\n",
    "    \n",
    "    expected result: {'t':2, 'e':1, 's':1}"
   ]
  },
  {
   "cell_type": "markdown",
   "id": "b9c9fad3",
   "metadata": {},
   "source": [
    "### Exercice 4:"
   ]
  },
  {
   "cell_type": "markdown",
   "id": "47b4ad19",
   "metadata": {},
   "source": [
    "1. Write a function that takes a list and returns the sum of its elements\n",
    "2. Write a function that takes two lists, checks if they have the same length, if so returns one list containing the sum of each two elements"
   ]
  },
  {
   "cell_type": "code",
   "execution_count": null,
   "id": "c7fde96e",
   "metadata": {},
   "outputs": [],
   "source": []
  }
 ],
 "metadata": {
  "kernelspec": {
   "display_name": "Python 3 (ipykernel)",
   "language": "python",
   "name": "python3"
  },
  "language_info": {
   "codemirror_mode": {
    "name": "ipython",
    "version": 3
   },
   "file_extension": ".py",
   "mimetype": "text/x-python",
   "name": "python",
   "nbconvert_exporter": "python",
   "pygments_lexer": "ipython3",
   "version": "3.8.10"
  }
 },
 "nbformat": 4,
 "nbformat_minor": 5
}
