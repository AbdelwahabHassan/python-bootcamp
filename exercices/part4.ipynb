{
 "cells": [
  {
   "cell_type": "markdown",
   "id": "47a096ce",
   "metadata": {},
   "source": [
    "### Exercice 1:"
   ]
  },
  {
   "cell_type": "markdown",
   "id": "f4977bb9",
   "metadata": {},
   "source": [
    "Write a Python class named square constructed by a length and two methods which will compute the area and the perimeter of the square."
   ]
  },
  {
   "cell_type": "code",
   "execution_count": 59,
   "id": "48a899aa",
   "metadata": {},
   "outputs": [
    {
     "name": "stdout",
     "output_type": "stream",
     "text": [
      "Aire est : \n",
      " 25\n",
      "Perimetre est :\n",
      " 20\n"
     ]
    }
   ],
   "source": [
    "class square():\n",
    "    #define your methods\n",
    "    def __init__(self,longueur):\n",
    "        self.longueur = longueur\n",
    "    def aire_carree(self):\n",
    "        return self.longueur**2\n",
    "    def perimetre(self):\n",
    "        return self.longueur*4\n",
    "\n",
    "square1 = square(5)\n",
    "print('Aire est : \\n',square1.aire_carree())\n",
    "print('Perimetre est :\\n',square1.perimetre())"
   ]
  },
  {
   "cell_type": "markdown",
   "id": "63d320bf",
   "metadata": {},
   "source": [
    "### Exercice 2:"
   ]
  },
  {
   "cell_type": "markdown",
   "id": "2ac6a965",
   "metadata": {},
   "source": [
    "Write a python class rectangle that inherits from the square class."
   ]
  },
  {
   "cell_type": "code",
   "execution_count": 60,
   "id": "007adc0d",
   "metadata": {},
   "outputs": [
    {
     "name": "stdout",
     "output_type": "stream",
     "text": [
      "Aire_R est : \n",
      " 25\n",
      "Perimetre_R est :\n",
      " 20\n"
     ]
    }
   ],
   "source": [
    "class rectangle(square):\n",
    "    def __init__(self,longueur,largeur):\n",
    "        self.largeur = largeur\n",
    "        super().__init__(longueur)\n",
    "\n",
    "square = rectangle(5,2)\n",
    "print('Aire_R est : \\n',square.aire_carree())\n",
    "print('Perimetre_R est :\\n',square.perimetre())"
   ]
  },
  {
   "cell_type": "markdown",
   "id": "14d9d504",
   "metadata": {},
   "source": [
    "### Exercice 3:"
   ]
  },
  {
   "cell_type": "code",
   "execution_count": 17,
   "id": "46dd0e2e",
   "metadata": {},
   "outputs": [
    {
     "name": "stdout",
     "output_type": "stream",
     "text": [
      "p1 ---> <function work at 0x7f93280d45e0>\n",
      "p2---> 23\n"
     ]
    }
   ],
   "source": [
    "class SampleClass:\n",
    "\n",
    "    def __init__(self, a):\n",
    "        ## private varibale in Python\n",
    "        self.a = a\n",
    "@SampleClass\n",
    "def work(x):\n",
    "    x = SampleClass(3)\n",
    "    return x\n",
    "print('p1 --->',work.a)\n",
    "work.a = 23\n",
    "print('p2--->',work.a)\n"
   ]
  },
  {
   "cell_type": "markdown",
   "id": "048585b9",
   "metadata": {},
   "source": [
    "Use python decorators to make the above code works"
   ]
  },
  {
   "cell_type": "code",
   "execution_count": null,
   "id": "71ec372d",
   "metadata": {},
   "outputs": [],
   "source": []
  }
 ],
 "metadata": {
  "kernelspec": {
   "display_name": "Python 3 (ipykernel)",
   "language": "python",
   "name": "python3"
  },
  "language_info": {
   "codemirror_mode": {
    "name": "ipython",
    "version": 3
   },
   "file_extension": ".py",
   "mimetype": "text/x-python",
   "name": "python",
   "nbconvert_exporter": "python",
   "pygments_lexer": "ipython3",
   "version": "3.8.10"
  }
 },
 "nbformat": 4,
 "nbformat_minor": 5
}
